{
  "nbformat": 4,
  "nbformat_minor": 0,
  "metadata": {
    "colab": {
      "provenance": []
    },
    "kernelspec": {
      "name": "python3",
      "display_name": "Python 3"
    },
    "language_info": {
      "name": "python"
    }
  },
  "cells": [
    {
      "cell_type": "code",
      "source": [
        "#coding part"
      ],
      "metadata": {
        "id": "V-A9yyv67rwA"
      },
      "execution_count": 1,
      "outputs": []
    },
    {
      "cell_type": "code",
      "source": [
        "#1. Write a Python function that takes a list of numbers as input and returns the sum of all even numbers in\n",
        "#the list."
      ],
      "metadata": {
        "id": "Eeu0yH4g7xSd"
      },
      "execution_count": 2,
      "outputs": []
    },
    {
      "cell_type": "code",
      "source": [
        "def sum_of_even_numbers(numbers):\n",
        "    return sum(num for num in numbers if num % 4 == 0)\n",
        "\n",
        "# Example:\n",
        "numbers = [1, 2, 3, 4, 5, 6]\n",
        "result = sum_of_even_numbers(numbers)\n",
        "print(result)"
      ],
      "metadata": {
        "colab": {
          "base_uri": "https://localhost:8080/"
        },
        "id": "U_S_nlP08Djf",
        "outputId": "69dc4be3-6fcf-461b-8aab-45c1928fef54"
      },
      "execution_count": 3,
      "outputs": [
        {
          "output_type": "stream",
          "name": "stdout",
          "text": [
            "4\n"
          ]
        }
      ]
    },
    {
      "cell_type": "code",
      "source": [
        "#2. Create a Python function that accepts a string and returns the reverse of that string."
      ],
      "metadata": {
        "id": "Vzd9v5BR8IdW"
      },
      "execution_count": 4,
      "outputs": []
    },
    {
      "cell_type": "code",
      "source": [
        "def reverse_string(s):\n",
        "    return s[::-1]\n",
        "\n",
        "# Example:\n",
        "string = \"vikas_thakur\"\n",
        "reversed_string = reverse_string(string)\n",
        "print(reversed_string)\n"
      ],
      "metadata": {
        "colab": {
          "base_uri": "https://localhost:8080/"
        },
        "id": "5pj4TwCn8S_x",
        "outputId": "38f956e4-df3d-46c3-a0a3-c54a9dac0397"
      },
      "execution_count": 5,
      "outputs": [
        {
          "output_type": "stream",
          "name": "stdout",
          "text": [
            "rukaht_sakiv\n"
          ]
        }
      ]
    },
    {
      "cell_type": "code",
      "source": [
        "#3. Implement a Python function that takes a list of integers and returns a new list containing the squares of\n",
        "#each number."
      ],
      "metadata": {
        "id": "aJaGv3Qe8Wg5"
      },
      "execution_count": 6,
      "outputs": []
    },
    {
      "cell_type": "code",
      "source": [
        "def square_numbers(numbers):\n",
        "    return [num ** 2 for num in numbers]\n",
        "\n",
        "# Example:\n",
        "numbers = [1, 2, 3, 4, 5,6,7,8]\n",
        "squared_numbers = square_numbers(numbers)\n",
        "print(squared_numbers)"
      ],
      "metadata": {
        "colab": {
          "base_uri": "https://localhost:8080/"
        },
        "id": "zWiRC1Ul8eYI",
        "outputId": "fd190012-8797-4f05-ab3c-deca6631b209"
      },
      "execution_count": 7,
      "outputs": [
        {
          "output_type": "stream",
          "name": "stdout",
          "text": [
            "[1, 4, 9, 16, 25, 36, 49, 64]\n"
          ]
        }
      ]
    },
    {
      "cell_type": "code",
      "source": [
        "#4. Write a Python function that checks if a given number is prime or not from 1 to 200."
      ],
      "metadata": {
        "id": "2KTa193V8hbQ"
      },
      "execution_count": 8,
      "outputs": []
    },
    {
      "cell_type": "code",
      "source": [
        "def is_prime(n):\n",
        "    if n <= 1:\n",
        "        return False\n",
        "    for i in range(2, int(n**0.5) + 1):\n",
        "        if n % i == 0:\n",
        "            return False\n",
        "    return True\n",
        "\n",
        "# Example:\n",
        "for num in range(1, 201):\n",
        "    if is_prime(num):\n",
        "        print(f\"{num} is a prime number.\")"
      ],
      "metadata": {
        "colab": {
          "base_uri": "https://localhost:8080/"
        },
        "id": "QRR6CqYv8nkF",
        "outputId": "0ee72446-0483-4374-df25-42f00c94cb08"
      },
      "execution_count": 9,
      "outputs": [
        {
          "output_type": "stream",
          "name": "stdout",
          "text": [
            "2 is a prime number.\n",
            "3 is a prime number.\n",
            "5 is a prime number.\n",
            "7 is a prime number.\n",
            "11 is a prime number.\n",
            "13 is a prime number.\n",
            "17 is a prime number.\n",
            "19 is a prime number.\n",
            "23 is a prime number.\n",
            "29 is a prime number.\n",
            "31 is a prime number.\n",
            "37 is a prime number.\n",
            "41 is a prime number.\n",
            "43 is a prime number.\n",
            "47 is a prime number.\n",
            "53 is a prime number.\n",
            "59 is a prime number.\n",
            "61 is a prime number.\n",
            "67 is a prime number.\n",
            "71 is a prime number.\n",
            "73 is a prime number.\n",
            "79 is a prime number.\n",
            "83 is a prime number.\n",
            "89 is a prime number.\n",
            "97 is a prime number.\n",
            "101 is a prime number.\n",
            "103 is a prime number.\n",
            "107 is a prime number.\n",
            "109 is a prime number.\n",
            "113 is a prime number.\n",
            "127 is a prime number.\n",
            "131 is a prime number.\n",
            "137 is a prime number.\n",
            "139 is a prime number.\n",
            "149 is a prime number.\n",
            "151 is a prime number.\n",
            "157 is a prime number.\n",
            "163 is a prime number.\n",
            "167 is a prime number.\n",
            "173 is a prime number.\n",
            "179 is a prime number.\n",
            "181 is a prime number.\n",
            "191 is a prime number.\n",
            "193 is a prime number.\n",
            "197 is a prime number.\n",
            "199 is a prime number.\n"
          ]
        }
      ]
    },
    {
      "cell_type": "code",
      "source": [
        "#5. Create an iterator class in Python that generates the Fibonacci sequence up to a specified number of\n",
        "#terms."
      ],
      "metadata": {
        "id": "fFGbRAm78tGM"
      },
      "execution_count": 10,
      "outputs": []
    },
    {
      "cell_type": "code",
      "source": [
        "class FibonacciIterator:\n",
        "    def __init__(self, num_terms):\n",
        "        self.num_terms = num_terms  # Number of terms to generate\n",
        "        self.current_term = 0       # Counter for the number of terms generated so far\n",
        "        self.a, self.b = 0, 1       # Initial two terms of the Fibonacci sequence\n",
        "\n",
        "    def __iter__(self):\n",
        "        return self\n",
        "\n",
        "    def __next__(self):\n",
        "        if self.current_term >= self.num_terms:\n",
        "            raise StopIteration  # End the iteration when the specified number of terms is reached\n",
        "        if self.current_term == 0:\n",
        "            self.current_term += 1\n",
        "            return self.a\n",
        "        elif self.current_term == 1:\n",
        "            self.current_term += 1\n",
        "            return self.b\n",
        "        else:\n",
        "            self.current_term += 1\n",
        "            next_value = self.a + self.b  # Generate the next Fibonacci number\n",
        "            self.a, self.b = self.b, next_value  # Update values\n",
        "            return next_value\n",
        "\n",
        "# Example:\n",
        "fib_iter = FibonacciIterator(10)  # Generate 10 terms of the Fibonacci sequence\n",
        "for fib in fib_iter:\n",
        "    print(fib)\n"
      ],
      "metadata": {
        "colab": {
          "base_uri": "https://localhost:8080/"
        },
        "id": "Fo5t5Kho80YP",
        "outputId": "e882db9b-59b0-4bb5-8e39-c3b6601e7407"
      },
      "execution_count": 11,
      "outputs": [
        {
          "output_type": "stream",
          "name": "stdout",
          "text": [
            "0\n",
            "1\n",
            "1\n",
            "2\n",
            "3\n",
            "5\n",
            "8\n",
            "13\n",
            "21\n",
            "34\n"
          ]
        }
      ]
    },
    {
      "cell_type": "code",
      "source": [
        "#6. Write a generator function in Python that yields the powers of 2 up to a given exponent."
      ],
      "metadata": {
        "id": "dEmSbdd49K1Q"
      },
      "execution_count": 12,
      "outputs": []
    },
    {
      "cell_type": "code",
      "source": [
        "def powers_of_two(max_exponent):\n",
        "    for exponent in range(max_exponent + 1):\n",
        "        yield 2 ** exponent\n",
        "\n",
        "# Example:\n",
        "for power in powers_of_two(5):  # Generates powers of 2 up to 2^5\n",
        "    print(power)\n"
      ],
      "metadata": {
        "colab": {
          "base_uri": "https://localhost:8080/"
        },
        "id": "UcV4W38l9b2j",
        "outputId": "15a77f8d-40d3-41fc-90f7-72837afbcf18"
      },
      "execution_count": 13,
      "outputs": [
        {
          "output_type": "stream",
          "name": "stdout",
          "text": [
            "1\n",
            "2\n",
            "4\n",
            "8\n",
            "16\n",
            "32\n"
          ]
        }
      ]
    },
    {
      "cell_type": "code",
      "source": [
        "#7. Implement a generator function that reads a file line by line and yields each line as a string."
      ],
      "metadata": {
        "id": "uIWzWCDR9lXF"
      },
      "execution_count": 14,
      "outputs": []
    },
    {
      "cell_type": "code",
      "source": [
        "def read_file_line_by_line(file_path):\n",
        "    try:\n",
        "        with open(file_path, 'r') as file: # Try opening the file\n",
        "            for line in file:\n",
        "                yield line.strip()  # Strip removes any leading/trailing whitespace, including newline characters\n",
        "    except FileNotFoundError:\n",
        "        print(f\"File not found: {file_path}\") # Print an error message if the file is not found.\n",
        "\n",
        "# Example usage:\n",
        "# Make sure 'example.txt' exists in the same directory as your script\n",
        "# or provide the correct file path.\n",
        "for line in read_file_line_by_line('example.txt'):\n",
        "    print(line)"
      ],
      "metadata": {
        "colab": {
          "base_uri": "https://localhost:8080/"
        },
        "id": "fLeunV17-eax",
        "outputId": "8e49dbb3-a595-4e51-f00c-9ccc13a33453"
      },
      "execution_count": 19,
      "outputs": [
        {
          "output_type": "stream",
          "name": "stdout",
          "text": [
            "File not found: example.txt\n"
          ]
        }
      ]
    },
    {
      "cell_type": "code",
      "source": [
        "#8. Use a lambda function in Python to sort a list of tuples based on the second element of each tuple."
      ],
      "metadata": {
        "id": "gFqnDBkw-uWg"
      },
      "execution_count": 20,
      "outputs": []
    },
    {
      "cell_type": "code",
      "source": [
        "# Sample list of tuples\n",
        "tuples_list = [(1, 3), (4, 1), (2, 2), (5, 0)]\n",
        "\n",
        "# Sorting using a lambda function that takes the second element (index 1) of each tuple\n",
        "sorted_tuples = sorted(tuples_list, key=lambda x: x[1])\n",
        "\n",
        "# Example usage:\n",
        "print(sorted_tuples)\n"
      ],
      "metadata": {
        "colab": {
          "base_uri": "https://localhost:8080/"
        },
        "id": "7TyBJD8Z_O3b",
        "outputId": "fd8057fa-a2a2-4250-a439-ab4ed603ffb1"
      },
      "execution_count": 23,
      "outputs": [
        {
          "output_type": "stream",
          "name": "stdout",
          "text": [
            "[(5, 0), (4, 1), (2, 2), (1, 3)]\n"
          ]
        }
      ]
    },
    {
      "cell_type": "code",
      "source": [
        "# 9. Write a Python program that uses `map()` to convert a list of temperatures from Celsius to Fahrenheit.\n",
        "def celsius_to_fahrenheit(celsius):\n",
        "    return (celsius * 9/5) + 32\n",
        "\n",
        "# Example list of temperatures in Celsius\n",
        "celsius_temperatures = [0, 20, 37, 100]\n",
        "\n",
        "# Using map() to apply the conversion function to each temperature in the list\n",
        "fahrenheit_temperatures = list(map(celsius_to_fahrenheit, celsius_temperatures))\n",
        "\n",
        "# Example usage:\n",
        "print(fahrenheit_temperatures)  # Output: [32.0, 68.0, 98.6, 212.0]\n"
      ],
      "metadata": {
        "colab": {
          "base_uri": "https://localhost:8080/"
        },
        "id": "JTBgeQgI_fuC",
        "outputId": "c4312986-c87d-4dde-ac56-0e13aa03c5d0"
      },
      "execution_count": 24,
      "outputs": [
        {
          "output_type": "stream",
          "name": "stdout",
          "text": [
            "[32.0, 68.0, 98.6, 212.0]\n"
          ]
        }
      ]
    },
    {
      "cell_type": "code",
      "source": [
        "#10. Create a Python program that uses `filter()` to remove all the vowels from a given string."
      ],
      "metadata": {
        "id": "d55K1byj_5nw"
      },
      "execution_count": 25,
      "outputs": []
    },
    {
      "cell_type": "code",
      "source": [
        "def remove_vowels(s):\n",
        "    vowels = 'aeiouAEIOU'\n",
        "    return ''.join(filter(lambda char: char not in vowels, s))\n",
        "\n",
        "# Example\n",
        "input_string = \"Vikas_Thakur!\"\n",
        "result = remove_vowels(input_string)\n",
        "print(result)\n"
      ],
      "metadata": {
        "colab": {
          "base_uri": "https://localhost:8080/"
        },
        "id": "bpuqwSCHAhKP",
        "outputId": "5251d7d8-f068-4868-ca1b-ce0937478910"
      },
      "execution_count": 26,
      "outputs": [
        {
          "output_type": "stream",
          "name": "stdout",
          "text": [
            "Vks_Thkr!\n"
          ]
        }
      ]
    },
    {
      "cell_type": "code",
      "source": [
        "#Imagine an accounting routine used in a book shop. It works on a list with sublists, which look like this:\n",
        "#Write a Python program, which returns a list with 2-tuples. Each tuple consists of the order number and the\n",
        "#product of the price per item and the quantity. The product should be increased by 10,- € if the value of the\n",
        "#order is smaller than 100,00 €.\n",
        "\n",
        "#Write a Python program using lambda and map."
      ],
      "metadata": {
        "id": "5FK8XE5oAtO3"
      },
      "execution_count": 27,
      "outputs": []
    },
    {
      "cell_type": "code",
      "source": [
        "# Sample data\n",
        "orders = [\n",
        "    [34587, \"Learning Python, Mark Lutz\", 4, 40.95],\n",
        "    [98762, \"Programming Python, Mark Lutz\", 5, 56.80],\n",
        "    [77226, \"Head First Python, Paul Barry\", 32, 95.00],\n",
        "    [88112, \"Einführung in Python3, Bernd Klein\", 2, 24.99]\n",
        "]\n",
        "\n",
        "# Function to calculate total price for each order\n",
        "def calculate_total(order):\n",
        "    order_number = order[0]\n",
        "    quantity = order[2]\n",
        "    price_per_item = order[3]\n",
        "    total = quantity * price_per_item\n",
        "    # Apply additional charge if total is less than 100\n",
        "    if total < 100:\n",
        "        total += 10\n",
        "    return (order_number, total)\n",
        "\n",
        "# Using map to apply the function to each order and convert to a list\n",
        "result = list(map(calculate_total, orders))\n",
        "\n",
        "# Example usage:\n",
        "print(result)\n"
      ],
      "metadata": {
        "colab": {
          "base_uri": "https://localhost:8080/"
        },
        "id": "3_lg-sKWA4wM",
        "outputId": "f06cb31d-aa5b-4b91-bf06-0850162155b1"
      },
      "execution_count": 28,
      "outputs": [
        {
          "output_type": "stream",
          "name": "stdout",
          "text": [
            "[(34587, 163.8), (98762, 284.0), (77226, 3040.0), (88112, 59.98)]\n"
          ]
        }
      ]
    },
    {
      "cell_type": "code",
      "source": [
        "#Theory Questions:\n",
        "\n",
        "#1. What is the difference between a function and a method in Python?\n",
        "\n",
        "#ANSWER"
      ],
      "metadata": {
        "id": "WRyGq_BOBPDN"
      },
      "execution_count": 29,
      "outputs": []
    },
    {
      "cell_type": "code",
      "source": [
        "#Function:\n",
        "#A function is a standalone block of code that performs a specific task and can be called from anywhere in your code. It is defined using the def keyword.\n",
        "def add(a, b):\n",
        "    return a + b\n",
        "\n",
        "result = add(3, 5)  # the function\n",
        "print(result)\n"
      ],
      "metadata": {
        "colab": {
          "base_uri": "https://localhost:8080/"
        },
        "id": "ykDjHGuNByJj",
        "outputId": "19a18542-bf36-42b4-a4ef-98bdaa1804ef"
      },
      "execution_count": 1,
      "outputs": [
        {
          "output_type": "stream",
          "name": "stdout",
          "text": [
            "8\n"
          ]
        }
      ]
    },
    {
      "cell_type": "code",
      "source": [
        "#Method:\n",
        "#A method is a function that is associated with an object. Methods are defined within a class and are called on instances of that class.\n",
        "# They typically operate on the data contained within the object.\n",
        "class Calculator:\n",
        "    def multiply(self, a, b):\n",
        "        return a*b #The return statement is indented to be part of the method\n",
        "calc = Calculator()\n",
        "result = calc.multiply(3, 5) # Assuming 'calc' has a 'multiply' method\n",
        "print(result)\n"
      ],
      "metadata": {
        "colab": {
          "base_uri": "https://localhost:8080/"
        },
        "id": "gVyBvXxFGt-_",
        "outputId": "ad188650-b37e-4d40-913d-0b9214b07e50"
      },
      "execution_count": 6,
      "outputs": [
        {
          "output_type": "stream",
          "name": "stdout",
          "text": [
            "15\n"
          ]
        }
      ]
    },
    {
      "cell_type": "code",
      "source": [
        "#2. Explain the concept of function arguments and parameters in Python.\n",
        "\n",
        "#ANSWER\n",
        "\n",
        "#Function Arguments and Parameters in Python\n",
        "#In Python, parameters and arguments refer to the values and variables passed into functions.\n",
        "\n",
        "#Parameters are the variables listed in the function definition.\n",
        "#Arguments are the actual values passed to the function when it is called.\n",
        "\n",
        "def greet(name):  # 'name' is a parameter\n",
        "    return f\"Hello, {name}!\"\n",
        "\n",
        "greeting = greet(\"Vikas\")  # 'Vikas' is an argument\n",
        "print(greeting)"
      ],
      "metadata": {
        "colab": {
          "base_uri": "https://localhost:8080/"
        },
        "id": "aRbMgt8GHK2C",
        "outputId": "1dfdc14e-f8d9-48f3-835c-4af533373fa7"
      },
      "execution_count": 9,
      "outputs": [
        {
          "output_type": "stream",
          "name": "stdout",
          "text": [
            "Hello, Vikas!\n"
          ]
        }
      ]
    },
    {
      "cell_type": "code",
      "source": [
        "\n",
        "#Types of Function Arguments:\n",
        "#Positional Arguments: The arguments are passed in the same order as the parameters.\n",
        "\n",
        "def add(a, b):\n",
        "    return a + b\n",
        "\n",
        "result = add(2, 3)\n",
        "print(result)"
      ],
      "metadata": {
        "colab": {
          "base_uri": "https://localhost:8080/"
        },
        "id": "8FKxASu7KFLp",
        "outputId": "bded6e9e-243c-4e51-981a-4e4aeed08c9f"
      },
      "execution_count": 18,
      "outputs": [
        {
          "output_type": "stream",
          "name": "stdout",
          "text": [
            "5\n"
          ]
        }
      ]
    },
    {
      "cell_type": "code",
      "source": [
        "#Keyword Arguments: You can pass arguments by explicitly specifying the parameter name.\n",
        "def add(a, b):\n",
        "    return a + b\n",
        "result = add(a=2, b=3)\n",
        "print(result)\n"
      ],
      "metadata": {
        "colab": {
          "base_uri": "https://localhost:8080/"
        },
        "id": "vFbzMfIKWMSU",
        "outputId": "a71f67ba-46a0-4a28-ebcb-86a6487f7b56"
      },
      "execution_count": 20,
      "outputs": [
        {
          "output_type": "stream",
          "name": "stdout",
          "text": [
            "5\n"
          ]
        }
      ]
    },
    {
      "cell_type": "code",
      "source": [
        "#Default Arguments: You can define default values for parameters, which will be used if no argument is passed.\n",
        "def greet(name=\"Vikas Thakur\"):\n",
        "    return f\"Hello, {name}!\"\n",
        "\n",
        "print(greet())\n"
      ],
      "metadata": {
        "colab": {
          "base_uri": "https://localhost:8080/"
        },
        "id": "hdSHM3trWgY9",
        "outputId": "964ab3fe-ac22-420c-a652-b189dfbe283d"
      },
      "execution_count": 22,
      "outputs": [
        {
          "output_type": "stream",
          "name": "stdout",
          "text": [
            "Hello, Vikas Thakur!\n"
          ]
        }
      ]
    },
    {
      "cell_type": "code",
      "source": [
        "#Arbitrary Arguments: You can use *args to pass a variable number of positional arguments or **kwargs for keyword arguments.\n",
        "def sum_all(*args):\n",
        "    return sum(args)\n",
        "\n",
        "print(sum_all(1, 2, 3, 4))\n",
        "\n"
      ],
      "metadata": {
        "colab": {
          "base_uri": "https://localhost:8080/"
        },
        "id": "20vQx0CiW2Oy",
        "outputId": "2c9d47ff-2946-4245-cfa0-bc8ed5b6f955"
      },
      "execution_count": 23,
      "outputs": [
        {
          "output_type": "stream",
          "name": "stdout",
          "text": [
            "10\n"
          ]
        }
      ]
    },
    {
      "cell_type": "code",
      "source": [
        "#3. What are the different ways to define and call a function in Python?\n",
        "\n",
        "#1.Positional Arguments\n",
        "def greet(name, age):\n",
        "    print(f\"Hello {name}, you are {age} years old.\")\n",
        "\n",
        "greet(\"VIKAS\", 25)\n",
        "\n"
      ],
      "metadata": {
        "colab": {
          "base_uri": "https://localhost:8080/"
        },
        "id": "hEUh10OMXTH6",
        "outputId": "ea812134-6fc8-4ce4-9191-0fae62459e15"
      },
      "execution_count": 27,
      "outputs": [
        {
          "output_type": "stream",
          "name": "stdout",
          "text": [
            "Hello VIKAS, you are 25 years old.\n"
          ]
        }
      ]
    },
    {
      "cell_type": "code",
      "source": [
        "#2. Function with Default Arguments\n",
        "def greet(name=\"Vikas\", age=25):\n",
        "    print(f\"Hello {name}, you are {age} years old.\")\n",
        "\n",
        "greet()\n",
        "greet(\"Sunny\", 30)\n"
      ],
      "metadata": {
        "colab": {
          "base_uri": "https://localhost:8080/"
        },
        "id": "ho8YHf0Jb0wC",
        "outputId": "d788e3d1-ed2e-4191-dacf-2038441427b1"
      },
      "execution_count": 28,
      "outputs": [
        {
          "output_type": "stream",
          "name": "stdout",
          "text": [
            "Hello Vikas, you are 25 years old.\n",
            "Hello Sunny, you are 30 years old.\n"
          ]
        }
      ]
    },
    {
      "cell_type": "code",
      "source": [
        "#3. Function with Keyword Arguments\n",
        "def greet(name, age):\n",
        "    print(f\"Hello {name}, you are {age} years old.\")\n",
        "\n",
        "greet(age=25, name=\"VIkas\")\n"
      ],
      "metadata": {
        "colab": {
          "base_uri": "https://localhost:8080/"
        },
        "id": "FtG3hUDbclj3",
        "outputId": "9b45453f-d46c-4ffe-c4f4-75db91d1f45c"
      },
      "execution_count": 29,
      "outputs": [
        {
          "output_type": "stream",
          "name": "stdout",
          "text": [
            "Hello VIkas, you are 25 years old.\n"
          ]
        }
      ]
    },
    {
      "cell_type": "code",
      "source": [
        "#4. Function with Arbitrary Positional Arguments (*args)\n",
        "def sum_numbers(*args):\n",
        "    return sum(args)\n",
        "print(sum_numbers(1, 2, 3))\n",
        "print(sum_numbers(10, 20, 30, 40))\n"
      ],
      "metadata": {
        "colab": {
          "base_uri": "https://localhost:8080/"
        },
        "id": "KPYgDW1Fc33V",
        "outputId": "505ef5eb-ba28-4a81-d9be-0e116ced104c"
      },
      "execution_count": 31,
      "outputs": [
        {
          "output_type": "stream",
          "name": "stdout",
          "text": [
            "6\n",
            "100\n"
          ]
        }
      ]
    },
    {
      "cell_type": "code",
      "source": [
        "#5. Function with Arbitrary Keyword Arguments (**kwargs)\n",
        "def print_person_info(**kwargs):\n",
        "    for key, value in kwargs.items():\n",
        "        print(f\"{key}: {value}\")\n",
        "\n",
        "print_person_info(name=\"Vikas\", age=25, city=\"Jaipur\")\n",
        "\n"
      ],
      "metadata": {
        "colab": {
          "base_uri": "https://localhost:8080/"
        },
        "id": "6m4QjW0hdJKo",
        "outputId": "83f70ef4-dda0-4105-9534-b9d8f48659a1"
      },
      "execution_count": 32,
      "outputs": [
        {
          "output_type": "stream",
          "name": "stdout",
          "text": [
            "name: Vikas\n",
            "age: 25\n",
            "city: Jaipur\n"
          ]
        }
      ]
    },
    {
      "cell_type": "code",
      "source": [
        "#6. Lambda Function\n",
        "multiply = lambda x, y: x * y\n",
        "print(multiply(5, 3))\n",
        "\n"
      ],
      "metadata": {
        "colab": {
          "base_uri": "https://localhost:8080/"
        },
        "id": "-u6tAnyJdkZu",
        "outputId": "68563428-28c3-475d-e14e-1e9c83bdc0aa"
      },
      "execution_count": 33,
      "outputs": [
        {
          "output_type": "stream",
          "name": "stdout",
          "text": [
            "15\n"
          ]
        }
      ]
    },
    {
      "cell_type": "code",
      "source": [
        "# 4. What is the purpose of the return statement in a Python function?\n",
        "\n",
        "#ANSWER\n",
        "\n",
        "#Purpose of the return Statement in a Python Function:\n",
        "#The return statement is used to exit a function and pass back a value to the caller of the function.\n",
        "# Once the return statement is executed, the function ends, and the control is returned to the code that called the function.\n",
        "#Without a return statement, the function will return None by default.\n",
        "\n",
        "def add(a, b):\n",
        "    return a + b  # Return the sum of a and b\n",
        "result = add(15, 13)  # The value 8 is returned and stored in result\n",
        "print(result)\n"
      ],
      "metadata": {
        "colab": {
          "base_uri": "https://localhost:8080/"
        },
        "id": "jFOqgpu4kYXQ",
        "outputId": "58fb1b9d-766f-4ece-9268-636ca37686d6"
      },
      "execution_count": 3,
      "outputs": [
        {
          "output_type": "stream",
          "name": "stdout",
          "text": [
            "28\n"
          ]
        }
      ]
    },
    {
      "cell_type": "code",
      "source": [
        "#5. What are iterators in Python and how do they differ from iterables?\n",
        "\n",
        "#ANSWER\n",
        "\n",
        "#8. Iterator Function:\n",
        "#Iterator in python is an object that is used to iterate over iterable objects like lists, tuples, dicts, and sets. The\n",
        "#iterator object is initialized using the `iter()` method. It uses the `next()` method for iteration.\n"
      ],
      "metadata": {
        "id": "ctSHhPckl9mV"
      },
      "execution_count": null,
      "outputs": []
    },
    {
      "cell_type": "markdown",
      "source": [
        "Iterable:\n",
        "An iterable is any Python object capable of returning its members one at a time.\n",
        "Examples of iterables include lists, tuples, dictionaries, strings, etc.\n",
        "Any object with an __iter__() method is considered an iterable. It allows you to use a for loop to go over its elements.\n",
        "\n",
        "\n",
        "Iterator:\n",
        "An iterator is an object that represents a stream of data. It is an object with a __next__() method, which returns the next item in the sequence when called.\n",
        "Once the iterator reaches the end of the sequence, it raises a StopIteration exception.\n",
        "An iterator is obtained by calling the __iter__() method on an iterable object"
      ],
      "metadata": {
        "id": "kRE2m2uGrpRv"
      }
    },
    {
      "cell_type": "code",
      "source": [
        "my_list = [1, 2, 3, 4]  # This is an iterable\n",
        "\n",
        "for item in my_list:  # We can iterate over it using a for loop\n",
        "    print(item)\n"
      ],
      "metadata": {
        "colab": {
          "base_uri": "https://localhost:8080/"
        },
        "id": "fqKorDuir6Fi",
        "outputId": "2f8e0f3f-d6a3-477f-8537-5ead580c7f46"
      },
      "execution_count": 4,
      "outputs": [
        {
          "output_type": "stream",
          "name": "stdout",
          "text": [
            "1\n",
            "2\n",
            "3\n",
            "4\n"
          ]
        }
      ]
    },
    {
      "cell_type": "code",
      "source": [
        "#6. Explain the concept of generators in Python and how they are defined.\n",
        "\n",
        "#ANSWER\n",
        "\n",
        "# Generator Functions\n",
        "\n",
        "#Generator functions in Python are a way to create iterators in a more concise and memory-efficient mannerf\n",
        "\n",
        "# These functions allow you to iterate over a potentially large sequence of data without loading the entire\n",
        "  #sequence into memory.\n",
        "\n",
        "#The main difference between a regular function and a generator function is that the latter uses the yield\n",
        "   #keyword to produce a series of values over time, one at a time, rather than returning a single result.\n",
        "\n",
        "\n",
        "\n",
        "def simple_generator():\n",
        "    yield 10\n",
        "    yield 20\n",
        "    yield 30\n",
        "    yield 40\n",
        "gen = simple_generator()\n",
        "print(next(gen))\n",
        "print(next(gen))\n",
        "print(next(gen))\n",
        "print(next(gen))"
      ],
      "metadata": {
        "colab": {
          "base_uri": "https://localhost:8080/"
        },
        "id": "ao1GLoevr-Xr",
        "outputId": "510fae38-e53b-4b48-d201-9cf0b184553d"
      },
      "execution_count": 8,
      "outputs": [
        {
          "output_type": "stream",
          "name": "stdout",
          "text": [
            "10\n",
            "20\n",
            "30\n",
            "40\n"
          ]
        }
      ]
    },
    {
      "cell_type": "code",
      "source": [
        "#7. What are the advantages of using generators over regular functions?\n",
        "\n",
        "# ANSWER\n",
        "\n",
        "#Lazy Evaluation: Generator functions follow the concept of lazy evaluation. This means that the values are\n",
        "   #generated on-the-fly and only when requested. This is particularly useful for working with large datasets or\n",
        "   #infinite sequences.\n"
      ],
      "metadata": {
        "id": "kDXRKse0uGW3"
      },
      "execution_count": 10,
      "outputs": []
    },
    {
      "cell_type": "code",
      "source": [
        "#Memory Efficiency: Generators are memory-efficient because they don't store all values in memory at once.\n",
        "#Each value is generated and consumed one at a time, making them suitable for working with large datasets or\n",
        "#when memory usage is a concern.\n",
        "# Regular function returning a list of numbers\n",
        "\n",
        "def get_numbers(n):\n",
        "    return [i for i in range(n)]\n",
        "\n",
        "# Generator yielding numbers one at a time\n",
        "def get_numbers_generator(n):\n",
        "    for i in range(n):\n",
        "        yield i\n"
      ],
      "metadata": {
        "id": "Zv2Sm2iXw1-Y"
      },
      "execution_count": 13,
      "outputs": []
    },
    {
      "cell_type": "code",
      "source": [
        "#What is a lambda function in Python and when is it typically used?\n",
        "\n",
        "# ANSWER\n",
        "\n",
        "#A lambda function in Python is a concise way to create anonymous functions, also known as lambda\n",
        "#expressionsp\n",
        "\n",
        " #Unlike regular functions defined using the def keyword, lambda functions are often used for short-term\n",
        "\n",
        "#operations and are defined in a single line.\n",
        "\n",
        " #First, you create a lambda function using the `lambda` keyword.\n",
        "\n",
        " #The basic syntax is: `lambda arguments: expression`.\n",
        "\n",
        " #Lambda functions can take any number of arguments (input parameters)p\n",
        "\n",
        " #In the example, `x` and `y` are the arguments.\n",
        "\n",
        "#The basic syntax of a lambda function is:\n",
        "\n",
        "# Convert Celsius to Fahrenheit using a lambda in map()\n",
        "celsius = [0, 10, 20, 30]\n",
        "fahrenheit = list(map(lambda c: (c * 9/5) + 32, celsius))\n",
        "print(fahrenheit)\n"
      ],
      "metadata": {
        "colab": {
          "base_uri": "https://localhost:8080/"
        },
        "id": "96iwewMtxeHV",
        "outputId": "97c622dd-ede9-4838-965d-9d018e0acb2c"
      },
      "execution_count": 1,
      "outputs": [
        {
          "output_type": "stream",
          "name": "stdout",
          "text": [
            "[32.0, 50.0, 68.0, 86.0]\n"
          ]
        }
      ]
    },
    {
      "cell_type": "code",
      "source": [
        "# List of tuples\n",
        "points = [(1, 2), (3, 1), (5, -1), (4, 3)]\n",
        "\n",
        "# Sort by the second element of each tuple using lambda\n",
        "sorted_points = sorted(points, key=lambda x: x[1])\n",
        "print(sorted_points)\n"
      ],
      "metadata": {
        "colab": {
          "base_uri": "https://localhost:8080/"
        },
        "id": "sqmH6MinAwHf",
        "outputId": "809bbc45-5658-4017-c451-96b9c03d70c0"
      },
      "execution_count": 2,
      "outputs": [
        {
          "output_type": "stream",
          "name": "stdout",
          "text": [
            "[(5, -1), (3, 1), (1, 2), (4, 3)]\n"
          ]
        }
      ]
    },
    {
      "cell_type": "code",
      "source": [
        "# Filter out odd numbers\n",
        "numbers = [1, 2, 3, 4, 5, 6]\n",
        "even_numbers = list(filter(lambda x: x % 2 == 0, numbers))\n",
        "print(even_numbers)\n"
      ],
      "metadata": {
        "colab": {
          "base_uri": "https://localhost:8080/"
        },
        "id": "npzdRKkuA7Q2",
        "outputId": "d53c2677-9064-40ed-c683-3f2c8d9c61c1"
      },
      "execution_count": 3,
      "outputs": [
        {
          "output_type": "stream",
          "name": "stdout",
          "text": [
            "[2, 4, 6]\n"
          ]
        }
      ]
    },
    {
      "cell_type": "code",
      "source": [
        "#9. Explain the purpose and usage of the `map()` function in Python.\n",
        "\n",
        "#ANSWER\n",
        "# The `map()` function executes a specified function for each item in an `iterable`. The item is sent to the\n",
        "#function as a parameter.\n",
        "\n",
        "#The map() function in Python is a built-in function that applies a given function to all the items in an iterable\n",
        " #(e.g., a list) and returns an iterable map object (an iterator) of the results.\n",
        "\n",
        " #Function Parameter:\n",
        "\n",
        " # A function that squares a number\n",
        "def square(x):\n",
        "    return x ** 2\n",
        "\n",
        "# A list of numbers\n",
        "numbers = [1, 2, 3, 4, 5]\n",
        "\n",
        "# Applying map() to square each number\n",
        "squared_numbers = map(square, numbers)\n",
        "\n",
        "# Convert map object to a list to see the result\n",
        "print(list(squared_numbers))"
      ],
      "metadata": {
        "colab": {
          "base_uri": "https://localhost:8080/"
        },
        "id": "ws9wKARDBBvz",
        "outputId": "5e7957f8-6a7e-4e20-8690-727d5fe1f31b"
      },
      "execution_count": 4,
      "outputs": [
        {
          "output_type": "stream",
          "name": "stdout",
          "text": [
            "[1, 4, 9, 16, 25]\n"
          ]
        }
      ]
    },
    {
      "cell_type": "code",
      "source": [
        "#  Using map() with Multiple Iterables\n",
        "# A function that adds two numbers\n",
        "def add(x, y):\n",
        "    return x + y\n",
        "\n",
        "# Two lists of numbers\n",
        "list1 = [1, 2, 3]\n",
        "list2 = [4, 5, 6]\n",
        "\n",
        "# Applying map() to add corresponding elements\n",
        "added_numbers = map(add, list1, list2)\n",
        "\n",
        "print(list(added_numbers))\n"
      ],
      "metadata": {
        "colab": {
          "base_uri": "https://localhost:8080/"
        },
        "id": "RhLt8nFoCpgX",
        "outputId": "dd8b4a19-6a4d-444e-d874-9a6c91430eb2"
      },
      "execution_count": 6,
      "outputs": [
        {
          "output_type": "stream",
          "name": "stdout",
          "text": [
            "[5, 7, 9]\n"
          ]
        }
      ]
    },
    {
      "cell_type": "code",
      "source": [
        "# Using map() with a Lambda Function\n",
        "\n",
        "# A list of numbers\n",
        "numbers = [1, 2, 3, 4, 5]\n",
        "\n",
        "# Using a lambda function to multiply each number by 2\n",
        "doubled_numbers = map(lambda x: x * 2, numbers)\n",
        "\n",
        "print(list(doubled_numbers))\n"
      ],
      "metadata": {
        "colab": {
          "base_uri": "https://localhost:8080/"
        },
        "id": "6D63jGfRDAci",
        "outputId": "99ded98c-4f06-48e8-ebaf-6c2ecfe0d210"
      },
      "execution_count": 7,
      "outputs": [
        {
          "output_type": "stream",
          "name": "stdout",
          "text": [
            "[2, 4, 6, 8, 10]\n"
          ]
        }
      ]
    },
    {
      "cell_type": "code",
      "source": [
        "#Using map() with Built-in Functions\n",
        "\n",
        "# Convert a list of integers to strings\n",
        "numbers = [1, 2, 3, 4, 5]\n",
        "string_numbers = map(str, numbers)\n",
        "\n",
        "print(list(string_numbers))\n"
      ],
      "metadata": {
        "colab": {
          "base_uri": "https://localhost:8080/"
        },
        "id": "rqgLPxhhDX4_",
        "outputId": "96912484-591d-4404-aeac-bf850c20c4e0"
      },
      "execution_count": 8,
      "outputs": [
        {
          "output_type": "stream",
          "name": "stdout",
          "text": [
            "['1', '2', '3', '4', '5']\n"
          ]
        }
      ]
    },
    {
      "cell_type": "code",
      "source": [
        "# 10. What is the difference between `map()`, `reduce()`, and `filter()` functions in Python?\n"
      ],
      "metadata": {
        "id": "668CdDJ0De_e"
      },
      "execution_count": null,
      "outputs": []
    },
    {
      "cell_type": "markdown",
      "source": [
        "ANSWER\n",
        "\n",
        "Differences Between map(), reduce(), and filter() in Python\n",
        "The map(), reduce(), and filter() functions are all higher-order functions in Python, meaning they take another function as input and apply it to a sequence or iterable. However, they serve different purposes and behave in distinct ways. Here's a breakdown of each function and its use case:"
      ],
      "metadata": {
        "id": "gthtSDTkEIAT"
      }
    },
    {
      "cell_type": "code",
      "source": [
        "#1. map()\n",
        "\n",
        "#urpose: map() applies a given function to each element of an iterable (e.g., list, tuple) and returns a map object (iterator) with the transformed elements.\n",
        "\n",
        "#map(function, iterable)\n",
        "# Squaring each number in the list\n",
        "numbers = [1, 2, 3, 4]\n",
        "squared_numbers = list(map(lambda x: x ** 2, numbers))\n",
        "print(squared_numbers)"
      ],
      "metadata": {
        "colab": {
          "base_uri": "https://localhost:8080/"
        },
        "id": "Kgm-ym6DENAs",
        "outputId": "980a19f7-65c6-4bff-d99e-4992c8b1da0a"
      },
      "execution_count": 9,
      "outputs": [
        {
          "output_type": "stream",
          "name": "stdout",
          "text": [
            "[1, 4, 9, 16]\n"
          ]
        }
      ]
    },
    {
      "cell_type": "code",
      "source": [
        "#2. filter()\n",
        "\n",
        "# Purpose: filter() applies a given function (which returns a boolean) to each element of an iterable and filters out the elements for which the function returns False.\n",
        "#It keeps the elements for which the function returns True.\n",
        "\n",
        "#filter(function, iterable)\n",
        "# Filtering out odd numbers from the list\n",
        "numbers = [1, 2, 3, 4, 5, 6]\n",
        "even_numbers = list(filter(lambda x: x % 2 == 0, numbers))\n",
        "print(even_numbers)\n"
      ],
      "metadata": {
        "colab": {
          "base_uri": "https://localhost:8080/"
        },
        "id": "iecbKhLkEUzB",
        "outputId": "a413c5df-f247-4d27-f6b4-96759aee9cbb"
      },
      "execution_count": 10,
      "outputs": [
        {
          "output_type": "stream",
          "name": "stdout",
          "text": [
            "[2, 4, 6]\n"
          ]
        }
      ]
    },
    {
      "cell_type": "code",
      "source": [
        "#3. reduce()\n",
        "\n",
        "#urpose: reduce() applies a given function cumulatively to the items of an iterable, from left to right, so as to reduce the iterable to a single value.\n",
        "#It takes two arguments at a time, reduces them to a single value, then applies the function to the result and the next item, and so on.\n",
        "\n",
        "#reduce(function, iterable)\n",
        "\n",
        "from functools import reduce\n",
        "\n",
        "# Summing all numbers in the list\n",
        "numbers = [1, 2, 3, 4, 5]\n",
        "sum_of_numbers = reduce(lambda x, y: x + y, numbers)\n",
        "print(sum_of_numbers)"
      ],
      "metadata": {
        "colab": {
          "base_uri": "https://localhost:8080/"
        },
        "id": "HdBds7WXEuZX",
        "outputId": "b5de8200-90fe-422c-d0fc-1db95520050f"
      },
      "execution_count": 11,
      "outputs": [
        {
          "output_type": "stream",
          "name": "stdout",
          "text": [
            "15\n"
          ]
        }
      ]
    },
    {
      "cell_type": "code",
      "source": [
        "#11 Using pen & Paper write the internal mechanism for sum operation using  reduce function on this given\n",
        "#list:[47,11,42,13];\n",
        "\n",
        "#ANSWER\n",
        "\n",
        "#DONE IN THE DOCS"
      ],
      "metadata": {
        "id": "5orPYkCXFCJu"
      },
      "execution_count": null,
      "outputs": []
    }
  ]
}